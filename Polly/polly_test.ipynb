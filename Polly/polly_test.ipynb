{
 "cells": [
  {
   "cell_type": "code",
   "execution_count": 2,
   "id": "04f08210-a28e-444f-98b2-2bbc10bdcdaf",
   "metadata": {},
   "outputs": [],
   "source": [
    "import boto3\n",
    "\n",
    "from botocore.exceptions import BotoCoreError, ClientError\n",
    "from contextlib import closing\n",
    "import os\n",
    "import sys\n",
    "import subprocess\n",
    "from tempfile import gettempdir\n",
    "\n",
    "\n",
    "man_voice_id = \"Joey\"\n",
    "woman_voice_id = \"Joanna\"\n",
    "boy_voice_id = \"Matthew\"\n",
    "girl_voice_id = \"Ivy\"\n",
    "\n",
    "# text to speech\n",
    "def tts(txt, voice_id, output_file_name=\"speech.mp3\", is_upload_to_s3=True):\n",
    "    bucket_name = \"aigc-bj-team1\"\n",
    "    polly_client = boto3.client(\"polly\")\n",
    "    s3_client = boto3.client(\"s3\")\n",
    "    try:\n",
    "        response = polly_client.synthesize_speech(Text=txt, OutputFormat=\"mp3\", VoiceId=voice_id)\n",
    "    except (BotoCoreError, ClientError) as error:\n",
    "        print(error)\n",
    "        sys.exit(-1)\n",
    "    if \"AudioStream\" in response:\n",
    "        with closing(response[\"AudioStream\"]) as stream:\n",
    "            if is_upload_to_s3:\n",
    "                output = os.path.join(gettempdir(), output_file_name)\n",
    "                try:\n",
    "                    with open(output, \"wb\") as file:\n",
    "                        file.write(stream.read())\n",
    "                        s3_client.upload_file(output, bucket_name, output_file_name)\n",
    "                        s3_output_link = f\"s3://{bucket_name}/{output_file_name}\"\n",
    "                        print(f\"Written to {s3_output_link}\")\n",
    "                        return s3_output_link\n",
    "                except IOError as error:\n",
    "                    print(error)\n",
    "                    sys.exit(-1)\n",
    "            else:\n",
    "                try:\n",
    "                    with open(output_file_name, \"wb\") as file:\n",
    "                        file.write(stream.read())\n",
    "                        print(f\"Written to {output_file_name}\")\n",
    "                        return output_file_name\n",
    "                except IOError as error:\n",
    "                    print(error)\n",
    "                    sys.exit(-1)\n",
    "            \n",
    "    else:\n",
    "        print(\"Could not stream audio\")\n",
    "        sys.exit(-1)\n",
    "    "
   ]
  },
  {
   "cell_type": "code",
   "execution_count": 33,
   "id": "7308a0f4-315b-4104-9618-b04300d76d45",
   "metadata": {},
   "outputs": [
    {
     "name": "stdout",
     "output_type": "stream",
     "text": [
      "Written to s3://aigc-bj-team1/speech.mp3\n"
     ]
    },
    {
     "data": {
      "text/plain": [
       "'s3://aigc-bj-team1/speech.mp3'"
      ]
     },
     "execution_count": 33,
     "metadata": {},
     "output_type": "execute_result"
    }
   ],
   "source": [
    "tts('Hello, world!', man_voice_id)"
   ]
  },
  {
   "cell_type": "code",
   "execution_count": 28,
   "id": "7ef0f44d-d923-4cc1-9cb9-22018e57e1d0",
   "metadata": {},
   "outputs": [
    {
     "name": "stdout",
     "output_type": "stream",
     "text": [
      "download: s3://aigc-bj-team1/speech.mp3 to ./speech.mp3        \n"
     ]
    }
   ],
   "source": [
    "!aws s3 cp s3://aigc-bj-team1/speech.mp3 ./speech.mp3"
   ]
  },
  {
   "cell_type": "code",
   "execution_count": 29,
   "id": "e19fd331-0045-438e-996a-58447c9a1242",
   "metadata": {
    "collapsed": true,
    "jupyter": {
     "outputs_hidden": true
    },
    "tags": []
   },
   "outputs": [
    {
     "data": {
      "text/html": [
       "\n",
       "                <audio  controls=\"controls\" >\n",
       "                    <source src=\"data:audio/mpeg;base64,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\" type=\"audio/mpeg\" />\n",
       "                    Your browser does not support the audio element.\n",
       "                </audio>\n",
       "              "
      ],
      "text/plain": [
       "<IPython.lib.display.Audio object>"
      ]
     },
     "execution_count": 29,
     "metadata": {},
     "output_type": "execute_result"
    }
   ],
   "source": [
    "from IPython.display import Audio\n",
    "\n",
    "# Replace 'path_to_your_mp3.mp3' with the path to your mp3 file\n",
    "audio_file = 'speech.mp3'\n",
    "\n",
    "Audio(audio_file)"
   ]
  },
  {
   "cell_type": "code",
   "execution_count": null,
   "id": "ffd07003-e9fc-4ef1-8bc5-8cc475aaada7",
   "metadata": {},
   "outputs": [],
   "source": []
  }
 ],
 "metadata": {
  "availableInstances": [
   {
    "_defaultOrder": 0,
    "_isFastLaunch": true,
    "category": "General purpose",
    "gpuNum": 0,
    "hideHardwareSpecs": false,
    "memoryGiB": 4,
    "name": "ml.t3.medium",
    "vcpuNum": 2
   },
   {
    "_defaultOrder": 1,
    "_isFastLaunch": false,
    "category": "General purpose",
    "gpuNum": 0,
    "hideHardwareSpecs": false,
    "memoryGiB": 8,
    "name": "ml.t3.large",
    "vcpuNum": 2
   },
   {
    "_defaultOrder": 2,
    "_isFastLaunch": false,
    "category": "General purpose",
    "gpuNum": 0,
    "hideHardwareSpecs": false,
    "memoryGiB": 16,
    "name": "ml.t3.xlarge",
    "vcpuNum": 4
   },
   {
    "_defaultOrder": 3,
    "_isFastLaunch": false,
    "category": "General purpose",
    "gpuNum": 0,
    "hideHardwareSpecs": false,
    "memoryGiB": 32,
    "name": "ml.t3.2xlarge",
    "vcpuNum": 8
   },
   {
    "_defaultOrder": 4,
    "_isFastLaunch": true,
    "category": "General purpose",
    "gpuNum": 0,
    "hideHardwareSpecs": false,
    "memoryGiB": 8,
    "name": "ml.m5.large",
    "vcpuNum": 2
   },
   {
    "_defaultOrder": 5,
    "_isFastLaunch": false,
    "category": "General purpose",
    "gpuNum": 0,
    "hideHardwareSpecs": false,
    "memoryGiB": 16,
    "name": "ml.m5.xlarge",
    "vcpuNum": 4
   },
   {
    "_defaultOrder": 6,
    "_isFastLaunch": false,
    "category": "General purpose",
    "gpuNum": 0,
    "hideHardwareSpecs": false,
    "memoryGiB": 32,
    "name": "ml.m5.2xlarge",
    "vcpuNum": 8
   },
   {
    "_defaultOrder": 7,
    "_isFastLaunch": false,
    "category": "General purpose",
    "gpuNum": 0,
    "hideHardwareSpecs": false,
    "memoryGiB": 64,
    "name": "ml.m5.4xlarge",
    "vcpuNum": 16
   },
   {
    "_defaultOrder": 8,
    "_isFastLaunch": false,
    "category": "General purpose",
    "gpuNum": 0,
    "hideHardwareSpecs": false,
    "memoryGiB": 128,
    "name": "ml.m5.8xlarge",
    "vcpuNum": 32
   },
   {
    "_defaultOrder": 9,
    "_isFastLaunch": false,
    "category": "General purpose",
    "gpuNum": 0,
    "hideHardwareSpecs": false,
    "memoryGiB": 192,
    "name": "ml.m5.12xlarge",
    "vcpuNum": 48
   },
   {
    "_defaultOrder": 10,
    "_isFastLaunch": false,
    "category": "General purpose",
    "gpuNum": 0,
    "hideHardwareSpecs": false,
    "memoryGiB": 256,
    "name": "ml.m5.16xlarge",
    "vcpuNum": 64
   },
   {
    "_defaultOrder": 11,
    "_isFastLaunch": false,
    "category": "General purpose",
    "gpuNum": 0,
    "hideHardwareSpecs": false,
    "memoryGiB": 384,
    "name": "ml.m5.24xlarge",
    "vcpuNum": 96
   },
   {
    "_defaultOrder": 12,
    "_isFastLaunch": false,
    "category": "General purpose",
    "gpuNum": 0,
    "hideHardwareSpecs": false,
    "memoryGiB": 8,
    "name": "ml.m5d.large",
    "vcpuNum": 2
   },
   {
    "_defaultOrder": 13,
    "_isFastLaunch": false,
    "category": "General purpose",
    "gpuNum": 0,
    "hideHardwareSpecs": false,
    "memoryGiB": 16,
    "name": "ml.m5d.xlarge",
    "vcpuNum": 4
   },
   {
    "_defaultOrder": 14,
    "_isFastLaunch": false,
    "category": "General purpose",
    "gpuNum": 0,
    "hideHardwareSpecs": false,
    "memoryGiB": 32,
    "name": "ml.m5d.2xlarge",
    "vcpuNum": 8
   },
   {
    "_defaultOrder": 15,
    "_isFastLaunch": false,
    "category": "General purpose",
    "gpuNum": 0,
    "hideHardwareSpecs": false,
    "memoryGiB": 64,
    "name": "ml.m5d.4xlarge",
    "vcpuNum": 16
   },
   {
    "_defaultOrder": 16,
    "_isFastLaunch": false,
    "category": "General purpose",
    "gpuNum": 0,
    "hideHardwareSpecs": false,
    "memoryGiB": 128,
    "name": "ml.m5d.8xlarge",
    "vcpuNum": 32
   },
   {
    "_defaultOrder": 17,
    "_isFastLaunch": false,
    "category": "General purpose",
    "gpuNum": 0,
    "hideHardwareSpecs": false,
    "memoryGiB": 192,
    "name": "ml.m5d.12xlarge",
    "vcpuNum": 48
   },
   {
    "_defaultOrder": 18,
    "_isFastLaunch": false,
    "category": "General purpose",
    "gpuNum": 0,
    "hideHardwareSpecs": false,
    "memoryGiB": 256,
    "name": "ml.m5d.16xlarge",
    "vcpuNum": 64
   },
   {
    "_defaultOrder": 19,
    "_isFastLaunch": false,
    "category": "General purpose",
    "gpuNum": 0,
    "hideHardwareSpecs": false,
    "memoryGiB": 384,
    "name": "ml.m5d.24xlarge",
    "vcpuNum": 96
   },
   {
    "_defaultOrder": 20,
    "_isFastLaunch": false,
    "category": "General purpose",
    "gpuNum": 0,
    "hideHardwareSpecs": true,
    "memoryGiB": 0,
    "name": "ml.geospatial.interactive",
    "supportedImageNames": [
     "sagemaker-geospatial-v1-0"
    ],
    "vcpuNum": 0
   },
   {
    "_defaultOrder": 21,
    "_isFastLaunch": true,
    "category": "Compute optimized",
    "gpuNum": 0,
    "hideHardwareSpecs": false,
    "memoryGiB": 4,
    "name": "ml.c5.large",
    "vcpuNum": 2
   },
   {
    "_defaultOrder": 22,
    "_isFastLaunch": false,
    "category": "Compute optimized",
    "gpuNum": 0,
    "hideHardwareSpecs": false,
    "memoryGiB": 8,
    "name": "ml.c5.xlarge",
    "vcpuNum": 4
   },
   {
    "_defaultOrder": 23,
    "_isFastLaunch": false,
    "category": "Compute optimized",
    "gpuNum": 0,
    "hideHardwareSpecs": false,
    "memoryGiB": 16,
    "name": "ml.c5.2xlarge",
    "vcpuNum": 8
   },
   {
    "_defaultOrder": 24,
    "_isFastLaunch": false,
    "category": "Compute optimized",
    "gpuNum": 0,
    "hideHardwareSpecs": false,
    "memoryGiB": 32,
    "name": "ml.c5.4xlarge",
    "vcpuNum": 16
   },
   {
    "_defaultOrder": 25,
    "_isFastLaunch": false,
    "category": "Compute optimized",
    "gpuNum": 0,
    "hideHardwareSpecs": false,
    "memoryGiB": 72,
    "name": "ml.c5.9xlarge",
    "vcpuNum": 36
   },
   {
    "_defaultOrder": 26,
    "_isFastLaunch": false,
    "category": "Compute optimized",
    "gpuNum": 0,
    "hideHardwareSpecs": false,
    "memoryGiB": 96,
    "name": "ml.c5.12xlarge",
    "vcpuNum": 48
   },
   {
    "_defaultOrder": 27,
    "_isFastLaunch": false,
    "category": "Compute optimized",
    "gpuNum": 0,
    "hideHardwareSpecs": false,
    "memoryGiB": 144,
    "name": "ml.c5.18xlarge",
    "vcpuNum": 72
   },
   {
    "_defaultOrder": 28,
    "_isFastLaunch": false,
    "category": "Compute optimized",
    "gpuNum": 0,
    "hideHardwareSpecs": false,
    "memoryGiB": 192,
    "name": "ml.c5.24xlarge",
    "vcpuNum": 96
   },
   {
    "_defaultOrder": 29,
    "_isFastLaunch": true,
    "category": "Accelerated computing",
    "gpuNum": 1,
    "hideHardwareSpecs": false,
    "memoryGiB": 16,
    "name": "ml.g4dn.xlarge",
    "vcpuNum": 4
   },
   {
    "_defaultOrder": 30,
    "_isFastLaunch": false,
    "category": "Accelerated computing",
    "gpuNum": 1,
    "hideHardwareSpecs": false,
    "memoryGiB": 32,
    "name": "ml.g4dn.2xlarge",
    "vcpuNum": 8
   },
   {
    "_defaultOrder": 31,
    "_isFastLaunch": false,
    "category": "Accelerated computing",
    "gpuNum": 1,
    "hideHardwareSpecs": false,
    "memoryGiB": 64,
    "name": "ml.g4dn.4xlarge",
    "vcpuNum": 16
   },
   {
    "_defaultOrder": 32,
    "_isFastLaunch": false,
    "category": "Accelerated computing",
    "gpuNum": 1,
    "hideHardwareSpecs": false,
    "memoryGiB": 128,
    "name": "ml.g4dn.8xlarge",
    "vcpuNum": 32
   },
   {
    "_defaultOrder": 33,
    "_isFastLaunch": false,
    "category": "Accelerated computing",
    "gpuNum": 4,
    "hideHardwareSpecs": false,
    "memoryGiB": 192,
    "name": "ml.g4dn.12xlarge",
    "vcpuNum": 48
   },
   {
    "_defaultOrder": 34,
    "_isFastLaunch": false,
    "category": "Accelerated computing",
    "gpuNum": 1,
    "hideHardwareSpecs": false,
    "memoryGiB": 256,
    "name": "ml.g4dn.16xlarge",
    "vcpuNum": 64
   },
   {
    "_defaultOrder": 35,
    "_isFastLaunch": false,
    "category": "Accelerated computing",
    "gpuNum": 1,
    "hideHardwareSpecs": false,
    "memoryGiB": 61,
    "name": "ml.p3.2xlarge",
    "vcpuNum": 8
   },
   {
    "_defaultOrder": 36,
    "_isFastLaunch": false,
    "category": "Accelerated computing",
    "gpuNum": 4,
    "hideHardwareSpecs": false,
    "memoryGiB": 244,
    "name": "ml.p3.8xlarge",
    "vcpuNum": 32
   },
   {
    "_defaultOrder": 37,
    "_isFastLaunch": false,
    "category": "Accelerated computing",
    "gpuNum": 8,
    "hideHardwareSpecs": false,
    "memoryGiB": 488,
    "name": "ml.p3.16xlarge",
    "vcpuNum": 64
   },
   {
    "_defaultOrder": 38,
    "_isFastLaunch": false,
    "category": "Accelerated computing",
    "gpuNum": 8,
    "hideHardwareSpecs": false,
    "memoryGiB": 768,
    "name": "ml.p3dn.24xlarge",
    "vcpuNum": 96
   },
   {
    "_defaultOrder": 39,
    "_isFastLaunch": false,
    "category": "Memory Optimized",
    "gpuNum": 0,
    "hideHardwareSpecs": false,
    "memoryGiB": 16,
    "name": "ml.r5.large",
    "vcpuNum": 2
   },
   {
    "_defaultOrder": 40,
    "_isFastLaunch": false,
    "category": "Memory Optimized",
    "gpuNum": 0,
    "hideHardwareSpecs": false,
    "memoryGiB": 32,
    "name": "ml.r5.xlarge",
    "vcpuNum": 4
   },
   {
    "_defaultOrder": 41,
    "_isFastLaunch": false,
    "category": "Memory Optimized",
    "gpuNum": 0,
    "hideHardwareSpecs": false,
    "memoryGiB": 64,
    "name": "ml.r5.2xlarge",
    "vcpuNum": 8
   },
   {
    "_defaultOrder": 42,
    "_isFastLaunch": false,
    "category": "Memory Optimized",
    "gpuNum": 0,
    "hideHardwareSpecs": false,
    "memoryGiB": 128,
    "name": "ml.r5.4xlarge",
    "vcpuNum": 16
   },
   {
    "_defaultOrder": 43,
    "_isFastLaunch": false,
    "category": "Memory Optimized",
    "gpuNum": 0,
    "hideHardwareSpecs": false,
    "memoryGiB": 256,
    "name": "ml.r5.8xlarge",
    "vcpuNum": 32
   },
   {
    "_defaultOrder": 44,
    "_isFastLaunch": false,
    "category": "Memory Optimized",
    "gpuNum": 0,
    "hideHardwareSpecs": false,
    "memoryGiB": 384,
    "name": "ml.r5.12xlarge",
    "vcpuNum": 48
   },
   {
    "_defaultOrder": 45,
    "_isFastLaunch": false,
    "category": "Memory Optimized",
    "gpuNum": 0,
    "hideHardwareSpecs": false,
    "memoryGiB": 512,
    "name": "ml.r5.16xlarge",
    "vcpuNum": 64
   },
   {
    "_defaultOrder": 46,
    "_isFastLaunch": false,
    "category": "Memory Optimized",
    "gpuNum": 0,
    "hideHardwareSpecs": false,
    "memoryGiB": 768,
    "name": "ml.r5.24xlarge",
    "vcpuNum": 96
   },
   {
    "_defaultOrder": 47,
    "_isFastLaunch": false,
    "category": "Accelerated computing",
    "gpuNum": 1,
    "hideHardwareSpecs": false,
    "memoryGiB": 16,
    "name": "ml.g5.xlarge",
    "vcpuNum": 4
   },
   {
    "_defaultOrder": 48,
    "_isFastLaunch": false,
    "category": "Accelerated computing",
    "gpuNum": 1,
    "hideHardwareSpecs": false,
    "memoryGiB": 32,
    "name": "ml.g5.2xlarge",
    "vcpuNum": 8
   },
   {
    "_defaultOrder": 49,
    "_isFastLaunch": false,
    "category": "Accelerated computing",
    "gpuNum": 1,
    "hideHardwareSpecs": false,
    "memoryGiB": 64,
    "name": "ml.g5.4xlarge",
    "vcpuNum": 16
   },
   {
    "_defaultOrder": 50,
    "_isFastLaunch": false,
    "category": "Accelerated computing",
    "gpuNum": 1,
    "hideHardwareSpecs": false,
    "memoryGiB": 128,
    "name": "ml.g5.8xlarge",
    "vcpuNum": 32
   },
   {
    "_defaultOrder": 51,
    "_isFastLaunch": false,
    "category": "Accelerated computing",
    "gpuNum": 1,
    "hideHardwareSpecs": false,
    "memoryGiB": 256,
    "name": "ml.g5.16xlarge",
    "vcpuNum": 64
   },
   {
    "_defaultOrder": 52,
    "_isFastLaunch": false,
    "category": "Accelerated computing",
    "gpuNum": 4,
    "hideHardwareSpecs": false,
    "memoryGiB": 192,
    "name": "ml.g5.12xlarge",
    "vcpuNum": 48
   },
   {
    "_defaultOrder": 53,
    "_isFastLaunch": false,
    "category": "Accelerated computing",
    "gpuNum": 4,
    "hideHardwareSpecs": false,
    "memoryGiB": 384,
    "name": "ml.g5.24xlarge",
    "vcpuNum": 96
   },
   {
    "_defaultOrder": 54,
    "_isFastLaunch": false,
    "category": "Accelerated computing",
    "gpuNum": 8,
    "hideHardwareSpecs": false,
    "memoryGiB": 768,
    "name": "ml.g5.48xlarge",
    "vcpuNum": 192
   },
   {
    "_defaultOrder": 55,
    "_isFastLaunch": false,
    "category": "Accelerated computing",
    "gpuNum": 8,
    "hideHardwareSpecs": false,
    "memoryGiB": 1152,
    "name": "ml.p4d.24xlarge",
    "vcpuNum": 96
   },
   {
    "_defaultOrder": 56,
    "_isFastLaunch": false,
    "category": "Accelerated computing",
    "gpuNum": 8,
    "hideHardwareSpecs": false,
    "memoryGiB": 1152,
    "name": "ml.p4de.24xlarge",
    "vcpuNum": 96
   }
  ],
  "instance_type": "ml.t3.medium",
  "kernelspec": {
   "display_name": "Python 3 (Data Science 3.0)",
   "language": "python",
   "name": "python3__SAGEMAKER_INTERNAL__arn:aws:sagemaker:us-east-1:081325390199:image/sagemaker-data-science-310-v1"
  },
  "language_info": {
   "codemirror_mode": {
    "name": "ipython",
    "version": 3
   },
   "file_extension": ".py",
   "mimetype": "text/x-python",
   "name": "python",
   "nbconvert_exporter": "python",
   "pygments_lexer": "ipython3",
   "version": "3.10.6"
  }
 },
 "nbformat": 4,
 "nbformat_minor": 5
}
