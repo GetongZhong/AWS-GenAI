{
 "cells": [
  {
   "cell_type": "code",
   "execution_count": 5,
   "id": "89ac2984-b6d1-4eb0-9c19-5de48725eb41",
   "metadata": {},
   "outputs": [],
   "source": [
    "from botocore.exceptions import BotoCoreError, ClientError\n",
    "from contextlib import closing\n",
    "from tempfile import gettempdir\n",
    "import boto3, requests, base64, os, fnmatch, sys, subprocess"
   ]
  },
  {
   "cell_type": "code",
   "execution_count": 20,
   "id": "63363cde-9708-4f2f-9f05-e37dc8a1434d",
   "metadata": {},
   "outputs": [],
   "source": [
    "class TextToVideo:\n",
    "    def __init__(self, bucket_name, webui_url, voice_id):\n",
    "        self.bucket_name = bucket_name\n",
    "        self.webui_url = webui_url\n",
    "        self.voice_id = voice_id\n",
    "        self.s3 = boto3.client(\"s3\")\n",
    "        self.polly = boto3.client(\"polly\")\n",
    "    \n",
    "    def download(self, file_name, output_path):\n",
    "        try:\n",
    "            self.s3.download_file(self.bucket_name, file_name, output_path)\n",
    "        except (BotoCoreError, ClientError) as error:\n",
    "            print(error)\n",
    "            sys.exit(-1)\n",
    "        print(f\"Download to {output_path}\")\n",
    "    \n",
    "    def download_to_tmp(self, file_name, output_file_name):\n",
    "        output_path = os.path.join(gettempdir(), output_file_name)\n",
    "        try:\n",
    "            self.s3.download_file(self.bucket_name, file_name, output_path)\n",
    "            return output_path\n",
    "        except (BotoCoreError, ClientError) as error:\n",
    "            print(error)\n",
    "            sys.exit(-1)\n",
    "        print(f\"Download to {output_path}\")\n",
    "    \n",
    "    def tts(self, txt, output_file_name):\n",
    "        try:\n",
    "            response = self.polly.synthesize_speech(Text=txt, OutputFormat=\"mp3\", VoiceId=self.voice_id)\n",
    "        except (BotoCoreError, ClientError) as error:\n",
    "            print(error)\n",
    "            sys.exit(-1)\n",
    "        if \"AudioStream\" in response:\n",
    "            with closing(response[\"AudioStream\"]) as stream:\n",
    "                output = os.path.join(gettempdir(), output_file_name)\n",
    "                try:\n",
    "                    with open(output, \"wb\") as file:\n",
    "                        file.write(stream.read())\n",
    "                        self.s3.upload_file(output, self.bucket_name, output_file_name)\n",
    "                        s3_output_link = f\"s3://{self.bucket_name}/{output_file_name}\"\n",
    "                        print(f\"Written to {s3_output_link}\")\n",
    "                        return output_file_name\n",
    "                except IOError as error:\n",
    "                    print(error)\n",
    "                    sys.exit(-1)\n",
    "\n",
    "        else:\n",
    "            print(\"could not stream audio\")\n",
    "            sys.exit(-1)\n",
    "\n",
    "    def gen_img(self, prompt, neg_prompt, output_file_name):\n",
    "        # webui example: https://346f3750a6a0bc47f8.gradio.live/\n",
    "        url = self.webui_url + 'sdapi/v1/txt2img'\n",
    "        data = '{\"prompt\":\"' + prompt + '\", \"negative_prompt\":\"' + neg_prompt + '\", \"width\":256, \"height\":256}'\n",
    "        headers = {'Content-Type': 'application/json'}\n",
    "        response = requests.post(url, headers=headers, data=data)\n",
    "        img_64 = response.json()['images'][0]\n",
    "        img_data = base64.b64decode(img_64)\n",
    "        output = os.path.join(gettempdir(), output_file_name)\n",
    "        try:\n",
    "            with open(output, \"wb\") as file:\n",
    "                file.write(img_data)\n",
    "                self.s3.upload_file(output, self.bucket_name, output_file_name)\n",
    "                s3_output_link = f\"s3://{self.bucket_name}/{output_file_name}\"\n",
    "                print(f\"Written to {s3_output_link}\")\n",
    "                return output_file_name\n",
    "        except IOError as error:\n",
    "            print(error)\n",
    "            sys.exit(-1)\n",
    "            \n",
    "    def find(self, pattern, path):\n",
    "        result = []\n",
    "        for root, dirs, files in os.walk(path):\n",
    "            for name in files:\n",
    "                if fnmatch.fnmatch(name, pattern):\n",
    "                    result.append(os.path.join(root, name))\n",
    "        return result\n",
    "\n",
    "    def gen_sad_talker(self, audio_path, img_path, output_file_name):\n",
    "        # 绝对路径\n",
    "        output_dir = os.path.join(gettempdir(), \"result/\")\n",
    "        os.chdir('/root/stable-diffusion-webui/extensions/SadTalker')\n",
    "        ret = os.system('python inference.py --enhancer gfpgan --driven_audio ' + audio_path + ' --source_image ' + img_path + ' --result_dir ' + output_dir)\n",
    "        if ret == 0:\n",
    "            mp4_list = self.find('*.mp4', output_dir)\n",
    "            if len(mp4_list) == 0:\n",
    "                print('output mp4 file not found')\n",
    "                sys.exit(-1)\n",
    "            else:\n",
    "                output = mp4_list[0]\n",
    "                print(output)\n",
    "                self.s3.upload_file(output, self.bucket_name, output_file_name)\n",
    "                s3_output_link = f\"s3://{self.bucket_name}/{output_file_name}\"\n",
    "                print(f\"Written to {s3_output_link}\")\n",
    "                return output_file_name\n",
    "        else:\n",
    "            print('sadtalker error')\n",
    "            sys.exit(-1)\n",
    "    \n",
    "    def ttv(self, prompt, neg_prompt, transcript):\n",
    "        self.clear_tmp()\n",
    "        audio_s3 = self.tts(transcript, \"audio.mp3\")\n",
    "        audio_local = self.download_to_tmp(audio_s3, \"audio.mp3\")\n",
    "        img_s3 = self.gen_img(prompt, neg_prompt, \"img.png\")\n",
    "        img_local = self.download_to_tmp(img_s3, \"img.png\")\n",
    "        result_s3 = self.gen_sad_talker(audio_local, img_local, \"result.mp4\")\n",
    "        return result_s3\n",
    "    \n",
    "    def clear_tmp(self):\n",
    "        try:\n",
    "            for root, dirs, files in os.walk(gettempdir()):\n",
    "                for file in files:\n",
    "                    file_path = os.path.join(root, file)\n",
    "                    os.remove(file_path)\n",
    "            print('/tmp cleared')\n",
    "        except OSError:\n",
    "            print('error clearing tmp')\n",
    "            sys.exit(-1)\n",
    "        "
   ]
  },
  {
   "cell_type": "code",
   "execution_count": 7,
   "id": "1aabaf70-8bc0-4b3e-a142-ab7374393602",
   "metadata": {},
   "outputs": [],
   "source": [
    "ttv = TextToVideo(\"aigc-bj-team1\", \"http://127.0.0.1:7860/\", \"Joanna\")"
   ]
  },
  {
   "cell_type": "code",
   "execution_count": null,
   "id": "6b4fda75-9210-4ef0-bcf2-da903d10e2dc",
   "metadata": {},
   "outputs": [],
   "source": []
  },
  {
   "cell_type": "code",
   "execution_count": 117,
   "id": "712a5cc0-6ab1-4b1f-a20e-d1cb616e1f91",
   "metadata": {},
   "outputs": [],
   "source": [
    "!ls /tmp"
   ]
  },
  {
   "cell_type": "code",
   "execution_count": 19,
   "id": "d16c26af-c944-4a51-b4e1-931812137e60",
   "metadata": {},
   "outputs": [
    {
     "name": "stdout",
     "output_type": "stream",
     "text": [
      "Download to /root/Polly/result_1.mp4\n",
      "Download to /root/Polly/audio_1.mp3\n",
      "Download to /root/Polly/img_1.png\n"
     ]
    }
   ],
   "source": [
    "ttv.download(\"result.mp4\", \"/root/Polly/result_1.mp4\")\n",
    "ttv.download(\"audio.mp3\", \"/root/Polly/audio_1.mp3\")\n",
    "ttv.download(\"img.png\", \"/root/Polly/img_1.png\")"
   ]
  },
  {
   "cell_type": "code",
   "execution_count": 39,
   "id": "dd5125ee-4a29-4baf-8ad8-f42ae636f659",
   "metadata": {},
   "outputs": [
    {
     "name": "stdout",
     "output_type": "stream",
     "text": [
      "Written to s3://aigc-bj-team1/test.png\n"
     ]
    },
    {
     "data": {
      "text/plain": [
       "'s3://aigc-bj-team1/test.png'"
      ]
     },
     "execution_count": 39,
     "metadata": {},
     "output_type": "execute_result"
    }
   ],
   "source": [
    "polly.gen_img(\"A dog\", \"A cat\", \"test.png\")"
   ]
  },
  {
   "cell_type": "code",
   "execution_count": null,
   "id": "3df3ab83-bbaa-4c22-a657-93b2fbad5f3d",
   "metadata": {},
   "outputs": [
    {
     "name": "stdout",
     "output_type": "stream",
     "text": [
      "/tmp cleared\n",
      "Written to s3://aigc-bj-team1/audio.mp3\n",
      "Written to s3://aigc-bj-team1/img.png\n",
      "using safetensor as default\n",
      "3DMM Extraction for source image\n"
     ]
    },
    {
     "name": "stderr",
     "output_type": "stream",
     "text": [
      "landmark Det:: 100%|██████████| 1/1 [00:00<00:00, 10.81it/s]\n",
      "3DMM Extraction In Video:: 100%|██████████| 1/1 [00:00<00:00, 11.53it/s]\n",
      "mel:: 100%|██████████| 31/31 [00:00<00:00, 31582.08it/s]\n",
      "audio2exp:: 100%|██████████| 4/4 [00:00<00:00, 36.43it/s]\n",
      "Face Renderer:: 100%|██████████| 16/16 [00:08<00:00,  1.98it/s]\n",
      "IMAGEIO FFMPEG_WRITER WARNING: input image is not divisible by macro_block_size=16, resizing from (256, 233) to (256, 240) to ensure video compatibility with most codecs and players. To prevent resizing, make your input image divisible by the macro_block_size or set the macro_block_size to 1 (risking incompatibility).\n"
     ]
    }
   ],
   "source": [
    "prompt = 'full frontal face, complete facial view, no obstructions, close-up portrait, slender German noblewoman, blonde hair, blue eyes, aura of elegance, timeless grace, best quality, ultra detailed, perfect lighting, masterpiece, extremely detailed face, detailed eyes, 8K High definition, Ultra Detailed, High quality texture, intricate details, detailed texture, finely detailed, high detail, extremely detailed cg, High quality shadow, Depth of field, Ray tracing, beautiful, ultra high res'\n",
    "neg_prompt = 'partial face, side view, cropped face, profile view, full body, distant, NSFW, cartoon, lowres, bad anatomy, text, error, missing facial features, cropped, worst quality, low quality, normal quality, jpeg artifacts, signature, watermark, username, blurry, artist name, young, loli, elf, 3d, illustration ng_deepnegative_v1_75t, low quality face, low quality eyes, low quality body, low detail clothes'\n",
    "ttv.ttv(prompt, neg_prompt, 'Hello, world!')"
   ]
  },
  {
   "cell_type": "code",
   "execution_count": 92,
   "id": "fd16ab2b-0709-4059-8fca-7be31b01004a",
   "metadata": {},
   "outputs": [],
   "source": [
    "shutil.rmtree(gettempdir())"
   ]
  },
  {
   "cell_type": "code",
   "execution_count": 103,
   "id": "874a36d6-5b7f-40b7-bb01-fe805800d3c2",
   "metadata": {},
   "outputs": [],
   "source": [
    "!mkdir /tmp"
   ]
  },
  {
   "cell_type": "code",
   "execution_count": 14,
   "id": "0034b370-0e5a-4e99-9c59-8ebbf2b766d6",
   "metadata": {},
   "outputs": [
    {
     "name": "stdout",
     "output_type": "stream",
     "text": [
      "Written to s3://aigc-bj-team1/1.mp3\n"
     ]
    },
    {
     "data": {
      "text/plain": [
       "'1.mp3'"
      ]
     },
     "execution_count": 14,
     "metadata": {},
     "output_type": "execute_result"
    }
   ],
   "source": [
    "ttv.tts('hello world', '1.mp3')"
   ]
  },
  {
   "cell_type": "code",
   "execution_count": 15,
   "id": "ddd7e4c5-c27a-4754-8267-d484e2563652",
   "metadata": {},
   "outputs": [
    {
     "name": "stdout",
     "output_type": "stream",
     "text": [
      "Download to /root/Polly/1.mp3\n"
     ]
    }
   ],
   "source": [
    "ttv.download(\"1.mp3\", \"/root/Polly/1.mp3\")"
   ]
  },
  {
   "cell_type": "code",
   "execution_count": 12,
   "id": "7f7d3907-1ffa-4ea0-a86a-0fa06f380e99",
   "metadata": {},
   "outputs": [
    {
     "ename": "ValueError",
     "evalue": "rate must be specified when data is a numpy array or list of audio samples.",
     "output_type": "error",
     "traceback": [
      "\u001b[0;31m---------------------------------------------------------------------------\u001b[0m",
      "\u001b[0;31mValueError\u001b[0m                                Traceback (most recent call last)",
      "Cell \u001b[0;32mIn[12], line 6\u001b[0m\n\u001b[1;32m      3\u001b[0m \u001b[38;5;66;03m# Replace 'path_to_your_mp3.mp3' with the path to your mp3 file\u001b[39;00m\n\u001b[1;32m      4\u001b[0m audio_file \u001b[38;5;241m=\u001b[39m \u001b[38;5;124m'\u001b[39m\u001b[38;5;124m1.mp3\u001b[39m\u001b[38;5;124m'\u001b[39m\n\u001b[0;32m----> 6\u001b[0m \u001b[43mAudio\u001b[49m\u001b[43m(\u001b[49m\u001b[43maudio_file\u001b[49m\u001b[43m)\u001b[49m\n",
      "File \u001b[0;32m/opt/conda/lib/python3.10/site-packages/IPython/lib/display.py:129\u001b[0m, in \u001b[0;36mAudio.__init__\u001b[0;34m(self, data, filename, url, embed, rate, autoplay, normalize, element_id)\u001b[0m\n\u001b[1;32m    127\u001b[0m \u001b[38;5;28;01mif\u001b[39;00m \u001b[38;5;28mself\u001b[39m\u001b[38;5;241m.\u001b[39mdata \u001b[38;5;129;01mis\u001b[39;00m \u001b[38;5;129;01mnot\u001b[39;00m \u001b[38;5;28;01mNone\u001b[39;00m \u001b[38;5;129;01mand\u001b[39;00m \u001b[38;5;129;01mnot\u001b[39;00m \u001b[38;5;28misinstance\u001b[39m(\u001b[38;5;28mself\u001b[39m\u001b[38;5;241m.\u001b[39mdata, \u001b[38;5;28mbytes\u001b[39m):\n\u001b[1;32m    128\u001b[0m     \u001b[38;5;28;01mif\u001b[39;00m rate \u001b[38;5;129;01mis\u001b[39;00m \u001b[38;5;28;01mNone\u001b[39;00m:\n\u001b[0;32m--> 129\u001b[0m         \u001b[38;5;28;01mraise\u001b[39;00m \u001b[38;5;167;01mValueError\u001b[39;00m(\u001b[38;5;124m\"\u001b[39m\u001b[38;5;124mrate must be specified when data is a numpy array or list of audio samples.\u001b[39m\u001b[38;5;124m\"\u001b[39m)\n\u001b[1;32m    130\u001b[0m     \u001b[38;5;28mself\u001b[39m\u001b[38;5;241m.\u001b[39mdata \u001b[38;5;241m=\u001b[39m Audio\u001b[38;5;241m.\u001b[39m_make_wav(data, rate, normalize)\n",
      "\u001b[0;31mValueError\u001b[0m: rate must be specified when data is a numpy array or list of audio samples."
     ]
    }
   ],
   "source": [
    "from IPython.display import Audio\n",
    "\n",
    "# Replace 'path_to_your_mp3.mp3' with the path to your mp3 file\n",
    "audio_file = '1.mp3'\n",
    "\n",
    "Audio(audio_file)"
   ]
  },
  {
   "cell_type": "code",
   "execution_count": null,
   "id": "5fb89cee-3a4f-4609-bf4d-9a6bbbbe1bf7",
   "metadata": {},
   "outputs": [],
   "source": []
  }
 ],
 "metadata": {
  "availableInstances": [
   {
    "_defaultOrder": 0,
    "_isFastLaunch": true,
    "category": "General purpose",
    "gpuNum": 0,
    "hideHardwareSpecs": false,
    "memoryGiB": 4,
    "name": "ml.t3.medium",
    "vcpuNum": 2
   },
   {
    "_defaultOrder": 1,
    "_isFastLaunch": false,
    "category": "General purpose",
    "gpuNum": 0,
    "hideHardwareSpecs": false,
    "memoryGiB": 8,
    "name": "ml.t3.large",
    "vcpuNum": 2
   },
   {
    "_defaultOrder": 2,
    "_isFastLaunch": false,
    "category": "General purpose",
    "gpuNum": 0,
    "hideHardwareSpecs": false,
    "memoryGiB": 16,
    "name": "ml.t3.xlarge",
    "vcpuNum": 4
   },
   {
    "_defaultOrder": 3,
    "_isFastLaunch": false,
    "category": "General purpose",
    "gpuNum": 0,
    "hideHardwareSpecs": false,
    "memoryGiB": 32,
    "name": "ml.t3.2xlarge",
    "vcpuNum": 8
   },
   {
    "_defaultOrder": 4,
    "_isFastLaunch": true,
    "category": "General purpose",
    "gpuNum": 0,
    "hideHardwareSpecs": false,
    "memoryGiB": 8,
    "name": "ml.m5.large",
    "vcpuNum": 2
   },
   {
    "_defaultOrder": 5,
    "_isFastLaunch": false,
    "category": "General purpose",
    "gpuNum": 0,
    "hideHardwareSpecs": false,
    "memoryGiB": 16,
    "name": "ml.m5.xlarge",
    "vcpuNum": 4
   },
   {
    "_defaultOrder": 6,
    "_isFastLaunch": false,
    "category": "General purpose",
    "gpuNum": 0,
    "hideHardwareSpecs": false,
    "memoryGiB": 32,
    "name": "ml.m5.2xlarge",
    "vcpuNum": 8
   },
   {
    "_defaultOrder": 7,
    "_isFastLaunch": false,
    "category": "General purpose",
    "gpuNum": 0,
    "hideHardwareSpecs": false,
    "memoryGiB": 64,
    "name": "ml.m5.4xlarge",
    "vcpuNum": 16
   },
   {
    "_defaultOrder": 8,
    "_isFastLaunch": false,
    "category": "General purpose",
    "gpuNum": 0,
    "hideHardwareSpecs": false,
    "memoryGiB": 128,
    "name": "ml.m5.8xlarge",
    "vcpuNum": 32
   },
   {
    "_defaultOrder": 9,
    "_isFastLaunch": false,
    "category": "General purpose",
    "gpuNum": 0,
    "hideHardwareSpecs": false,
    "memoryGiB": 192,
    "name": "ml.m5.12xlarge",
    "vcpuNum": 48
   },
   {
    "_defaultOrder": 10,
    "_isFastLaunch": false,
    "category": "General purpose",
    "gpuNum": 0,
    "hideHardwareSpecs": false,
    "memoryGiB": 256,
    "name": "ml.m5.16xlarge",
    "vcpuNum": 64
   },
   {
    "_defaultOrder": 11,
    "_isFastLaunch": false,
    "category": "General purpose",
    "gpuNum": 0,
    "hideHardwareSpecs": false,
    "memoryGiB": 384,
    "name": "ml.m5.24xlarge",
    "vcpuNum": 96
   },
   {
    "_defaultOrder": 12,
    "_isFastLaunch": false,
    "category": "General purpose",
    "gpuNum": 0,
    "hideHardwareSpecs": false,
    "memoryGiB": 8,
    "name": "ml.m5d.large",
    "vcpuNum": 2
   },
   {
    "_defaultOrder": 13,
    "_isFastLaunch": false,
    "category": "General purpose",
    "gpuNum": 0,
    "hideHardwareSpecs": false,
    "memoryGiB": 16,
    "name": "ml.m5d.xlarge",
    "vcpuNum": 4
   },
   {
    "_defaultOrder": 14,
    "_isFastLaunch": false,
    "category": "General purpose",
    "gpuNum": 0,
    "hideHardwareSpecs": false,
    "memoryGiB": 32,
    "name": "ml.m5d.2xlarge",
    "vcpuNum": 8
   },
   {
    "_defaultOrder": 15,
    "_isFastLaunch": false,
    "category": "General purpose",
    "gpuNum": 0,
    "hideHardwareSpecs": false,
    "memoryGiB": 64,
    "name": "ml.m5d.4xlarge",
    "vcpuNum": 16
   },
   {
    "_defaultOrder": 16,
    "_isFastLaunch": false,
    "category": "General purpose",
    "gpuNum": 0,
    "hideHardwareSpecs": false,
    "memoryGiB": 128,
    "name": "ml.m5d.8xlarge",
    "vcpuNum": 32
   },
   {
    "_defaultOrder": 17,
    "_isFastLaunch": false,
    "category": "General purpose",
    "gpuNum": 0,
    "hideHardwareSpecs": false,
    "memoryGiB": 192,
    "name": "ml.m5d.12xlarge",
    "vcpuNum": 48
   },
   {
    "_defaultOrder": 18,
    "_isFastLaunch": false,
    "category": "General purpose",
    "gpuNum": 0,
    "hideHardwareSpecs": false,
    "memoryGiB": 256,
    "name": "ml.m5d.16xlarge",
    "vcpuNum": 64
   },
   {
    "_defaultOrder": 19,
    "_isFastLaunch": false,
    "category": "General purpose",
    "gpuNum": 0,
    "hideHardwareSpecs": false,
    "memoryGiB": 384,
    "name": "ml.m5d.24xlarge",
    "vcpuNum": 96
   },
   {
    "_defaultOrder": 20,
    "_isFastLaunch": false,
    "category": "General purpose",
    "gpuNum": 0,
    "hideHardwareSpecs": true,
    "memoryGiB": 0,
    "name": "ml.geospatial.interactive",
    "supportedImageNames": [
     "sagemaker-geospatial-v1-0"
    ],
    "vcpuNum": 0
   },
   {
    "_defaultOrder": 21,
    "_isFastLaunch": true,
    "category": "Compute optimized",
    "gpuNum": 0,
    "hideHardwareSpecs": false,
    "memoryGiB": 4,
    "name": "ml.c5.large",
    "vcpuNum": 2
   },
   {
    "_defaultOrder": 22,
    "_isFastLaunch": false,
    "category": "Compute optimized",
    "gpuNum": 0,
    "hideHardwareSpecs": false,
    "memoryGiB": 8,
    "name": "ml.c5.xlarge",
    "vcpuNum": 4
   },
   {
    "_defaultOrder": 23,
    "_isFastLaunch": false,
    "category": "Compute optimized",
    "gpuNum": 0,
    "hideHardwareSpecs": false,
    "memoryGiB": 16,
    "name": "ml.c5.2xlarge",
    "vcpuNum": 8
   },
   {
    "_defaultOrder": 24,
    "_isFastLaunch": false,
    "category": "Compute optimized",
    "gpuNum": 0,
    "hideHardwareSpecs": false,
    "memoryGiB": 32,
    "name": "ml.c5.4xlarge",
    "vcpuNum": 16
   },
   {
    "_defaultOrder": 25,
    "_isFastLaunch": false,
    "category": "Compute optimized",
    "gpuNum": 0,
    "hideHardwareSpecs": false,
    "memoryGiB": 72,
    "name": "ml.c5.9xlarge",
    "vcpuNum": 36
   },
   {
    "_defaultOrder": 26,
    "_isFastLaunch": false,
    "category": "Compute optimized",
    "gpuNum": 0,
    "hideHardwareSpecs": false,
    "memoryGiB": 96,
    "name": "ml.c5.12xlarge",
    "vcpuNum": 48
   },
   {
    "_defaultOrder": 27,
    "_isFastLaunch": false,
    "category": "Compute optimized",
    "gpuNum": 0,
    "hideHardwareSpecs": false,
    "memoryGiB": 144,
    "name": "ml.c5.18xlarge",
    "vcpuNum": 72
   },
   {
    "_defaultOrder": 28,
    "_isFastLaunch": false,
    "category": "Compute optimized",
    "gpuNum": 0,
    "hideHardwareSpecs": false,
    "memoryGiB": 192,
    "name": "ml.c5.24xlarge",
    "vcpuNum": 96
   },
   {
    "_defaultOrder": 29,
    "_isFastLaunch": true,
    "category": "Accelerated computing",
    "gpuNum": 1,
    "hideHardwareSpecs": false,
    "memoryGiB": 16,
    "name": "ml.g4dn.xlarge",
    "vcpuNum": 4
   },
   {
    "_defaultOrder": 30,
    "_isFastLaunch": false,
    "category": "Accelerated computing",
    "gpuNum": 1,
    "hideHardwareSpecs": false,
    "memoryGiB": 32,
    "name": "ml.g4dn.2xlarge",
    "vcpuNum": 8
   },
   {
    "_defaultOrder": 31,
    "_isFastLaunch": false,
    "category": "Accelerated computing",
    "gpuNum": 1,
    "hideHardwareSpecs": false,
    "memoryGiB": 64,
    "name": "ml.g4dn.4xlarge",
    "vcpuNum": 16
   },
   {
    "_defaultOrder": 32,
    "_isFastLaunch": false,
    "category": "Accelerated computing",
    "gpuNum": 1,
    "hideHardwareSpecs": false,
    "memoryGiB": 128,
    "name": "ml.g4dn.8xlarge",
    "vcpuNum": 32
   },
   {
    "_defaultOrder": 33,
    "_isFastLaunch": false,
    "category": "Accelerated computing",
    "gpuNum": 4,
    "hideHardwareSpecs": false,
    "memoryGiB": 192,
    "name": "ml.g4dn.12xlarge",
    "vcpuNum": 48
   },
   {
    "_defaultOrder": 34,
    "_isFastLaunch": false,
    "category": "Accelerated computing",
    "gpuNum": 1,
    "hideHardwareSpecs": false,
    "memoryGiB": 256,
    "name": "ml.g4dn.16xlarge",
    "vcpuNum": 64
   },
   {
    "_defaultOrder": 35,
    "_isFastLaunch": false,
    "category": "Accelerated computing",
    "gpuNum": 1,
    "hideHardwareSpecs": false,
    "memoryGiB": 61,
    "name": "ml.p3.2xlarge",
    "vcpuNum": 8
   },
   {
    "_defaultOrder": 36,
    "_isFastLaunch": false,
    "category": "Accelerated computing",
    "gpuNum": 4,
    "hideHardwareSpecs": false,
    "memoryGiB": 244,
    "name": "ml.p3.8xlarge",
    "vcpuNum": 32
   },
   {
    "_defaultOrder": 37,
    "_isFastLaunch": false,
    "category": "Accelerated computing",
    "gpuNum": 8,
    "hideHardwareSpecs": false,
    "memoryGiB": 488,
    "name": "ml.p3.16xlarge",
    "vcpuNum": 64
   },
   {
    "_defaultOrder": 38,
    "_isFastLaunch": false,
    "category": "Accelerated computing",
    "gpuNum": 8,
    "hideHardwareSpecs": false,
    "memoryGiB": 768,
    "name": "ml.p3dn.24xlarge",
    "vcpuNum": 96
   },
   {
    "_defaultOrder": 39,
    "_isFastLaunch": false,
    "category": "Memory Optimized",
    "gpuNum": 0,
    "hideHardwareSpecs": false,
    "memoryGiB": 16,
    "name": "ml.r5.large",
    "vcpuNum": 2
   },
   {
    "_defaultOrder": 40,
    "_isFastLaunch": false,
    "category": "Memory Optimized",
    "gpuNum": 0,
    "hideHardwareSpecs": false,
    "memoryGiB": 32,
    "name": "ml.r5.xlarge",
    "vcpuNum": 4
   },
   {
    "_defaultOrder": 41,
    "_isFastLaunch": false,
    "category": "Memory Optimized",
    "gpuNum": 0,
    "hideHardwareSpecs": false,
    "memoryGiB": 64,
    "name": "ml.r5.2xlarge",
    "vcpuNum": 8
   },
   {
    "_defaultOrder": 42,
    "_isFastLaunch": false,
    "category": "Memory Optimized",
    "gpuNum": 0,
    "hideHardwareSpecs": false,
    "memoryGiB": 128,
    "name": "ml.r5.4xlarge",
    "vcpuNum": 16
   },
   {
    "_defaultOrder": 43,
    "_isFastLaunch": false,
    "category": "Memory Optimized",
    "gpuNum": 0,
    "hideHardwareSpecs": false,
    "memoryGiB": 256,
    "name": "ml.r5.8xlarge",
    "vcpuNum": 32
   },
   {
    "_defaultOrder": 44,
    "_isFastLaunch": false,
    "category": "Memory Optimized",
    "gpuNum": 0,
    "hideHardwareSpecs": false,
    "memoryGiB": 384,
    "name": "ml.r5.12xlarge",
    "vcpuNum": 48
   },
   {
    "_defaultOrder": 45,
    "_isFastLaunch": false,
    "category": "Memory Optimized",
    "gpuNum": 0,
    "hideHardwareSpecs": false,
    "memoryGiB": 512,
    "name": "ml.r5.16xlarge",
    "vcpuNum": 64
   },
   {
    "_defaultOrder": 46,
    "_isFastLaunch": false,
    "category": "Memory Optimized",
    "gpuNum": 0,
    "hideHardwareSpecs": false,
    "memoryGiB": 768,
    "name": "ml.r5.24xlarge",
    "vcpuNum": 96
   },
   {
    "_defaultOrder": 47,
    "_isFastLaunch": false,
    "category": "Accelerated computing",
    "gpuNum": 1,
    "hideHardwareSpecs": false,
    "memoryGiB": 16,
    "name": "ml.g5.xlarge",
    "vcpuNum": 4
   },
   {
    "_defaultOrder": 48,
    "_isFastLaunch": false,
    "category": "Accelerated computing",
    "gpuNum": 1,
    "hideHardwareSpecs": false,
    "memoryGiB": 32,
    "name": "ml.g5.2xlarge",
    "vcpuNum": 8
   },
   {
    "_defaultOrder": 49,
    "_isFastLaunch": false,
    "category": "Accelerated computing",
    "gpuNum": 1,
    "hideHardwareSpecs": false,
    "memoryGiB": 64,
    "name": "ml.g5.4xlarge",
    "vcpuNum": 16
   },
   {
    "_defaultOrder": 50,
    "_isFastLaunch": false,
    "category": "Accelerated computing",
    "gpuNum": 1,
    "hideHardwareSpecs": false,
    "memoryGiB": 128,
    "name": "ml.g5.8xlarge",
    "vcpuNum": 32
   },
   {
    "_defaultOrder": 51,
    "_isFastLaunch": false,
    "category": "Accelerated computing",
    "gpuNum": 1,
    "hideHardwareSpecs": false,
    "memoryGiB": 256,
    "name": "ml.g5.16xlarge",
    "vcpuNum": 64
   },
   {
    "_defaultOrder": 52,
    "_isFastLaunch": false,
    "category": "Accelerated computing",
    "gpuNum": 4,
    "hideHardwareSpecs": false,
    "memoryGiB": 192,
    "name": "ml.g5.12xlarge",
    "vcpuNum": 48
   },
   {
    "_defaultOrder": 53,
    "_isFastLaunch": false,
    "category": "Accelerated computing",
    "gpuNum": 4,
    "hideHardwareSpecs": false,
    "memoryGiB": 384,
    "name": "ml.g5.24xlarge",
    "vcpuNum": 96
   },
   {
    "_defaultOrder": 54,
    "_isFastLaunch": false,
    "category": "Accelerated computing",
    "gpuNum": 8,
    "hideHardwareSpecs": false,
    "memoryGiB": 768,
    "name": "ml.g5.48xlarge",
    "vcpuNum": 192
   },
   {
    "_defaultOrder": 55,
    "_isFastLaunch": false,
    "category": "Accelerated computing",
    "gpuNum": 8,
    "hideHardwareSpecs": false,
    "memoryGiB": 1152,
    "name": "ml.p4d.24xlarge",
    "vcpuNum": 96
   },
   {
    "_defaultOrder": 56,
    "_isFastLaunch": false,
    "category": "Accelerated computing",
    "gpuNum": 8,
    "hideHardwareSpecs": false,
    "memoryGiB": 1152,
    "name": "ml.p4de.24xlarge",
    "vcpuNum": 96
   }
  ],
  "instance_type": "ml.g4dn.xlarge",
  "kernelspec": {
   "display_name": "Python 3 (Data Science 3.0)",
   "language": "python",
   "name": "python3__SAGEMAKER_INTERNAL__arn:aws:sagemaker:us-east-1:081325390199:image/sagemaker-data-science-310-v1"
  },
  "language_info": {
   "codemirror_mode": {
    "name": "ipython",
    "version": 3
   },
   "file_extension": ".py",
   "mimetype": "text/x-python",
   "name": "python",
   "nbconvert_exporter": "python",
   "pygments_lexer": "ipython3",
   "version": "3.10.6"
  }
 },
 "nbformat": 4,
 "nbformat_minor": 5
}
