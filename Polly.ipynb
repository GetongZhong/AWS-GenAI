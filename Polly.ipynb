{
 "cells": [
  {
   "cell_type": "markdown",
   "id": "12aebb62-ccc5-4e91-97aa-9e6c6383586c",
   "metadata": {},
   "source": [
    "# 1. Install Package"
   ]
  },
  {
   "cell_type": "code",
   "execution_count": 3,
   "id": "3021aa91-220b-4d27-99b9-bfcc86a94b83",
   "metadata": {
    "tags": []
   },
   "outputs": [
    {
     "name": "stdout",
     "output_type": "stream",
     "text": [
      "# conda environments:\n",
      "#\n",
      "base                     /opt/conda\n",
      "\n",
      "\n",
      "Note: you may need to restart the kernel to use updated packages.\n"
     ]
    }
   ],
   "source": [
    "%conda info --envs"
   ]
  },
  {
   "cell_type": "code",
   "execution_count": 4,
   "id": "018e45a8-09a4-4518-973c-1a415976315c",
   "metadata": {
    "tags": []
   },
   "outputs": [
    {
     "name": "stdout",
     "output_type": "stream",
     "text": [
      "Collecting package metadata (current_repodata.json): done\n",
      "Solving environment: failed with initial frozen solve. Retrying with flexible solve.\n",
      "Collecting package metadata (repodata.json): done\n",
      "Solving environment: failed with initial frozen solve. Retrying with flexible solve.\n",
      "\n",
      "PackagesNotFoundError: The following packages are not available from current channels:\n",
      "\n",
      "  - contextlib\n",
      "\n",
      "Current channels:\n",
      "\n",
      "  - https://repo.anaconda.com/pkgs/main/linux-64\n",
      "  - https://repo.anaconda.com/pkgs/main/noarch\n",
      "  - https://repo.anaconda.com/pkgs/r/linux-64\n",
      "  - https://repo.anaconda.com/pkgs/r/noarch\n",
      "\n",
      "To search for alternate channels that may provide the conda package you're\n",
      "looking for, navigate to\n",
      "\n",
      "    https://anaconda.org\n",
      "\n",
      "and use the search bar at the top of the page.\n",
      "\n",
      "\n",
      "\n",
      "Note: you may need to restart the kernel to use updated packages.\n"
     ]
    }
   ],
   "source": [
    "%conda install contextlib"
   ]
  },
  {
   "cell_type": "code",
   "execution_count": 6,
   "id": "1f48c36f-614c-4303-8e4a-8242132ff7da",
   "metadata": {
    "tags": []
   },
   "outputs": [
    {
     "name": "stdout",
     "output_type": "stream",
     "text": [
      "Collecting package metadata (current_repodata.json): done\n",
      "Solving environment: failed with initial frozen solve. Retrying with flexible solve.\n",
      "Collecting package metadata (repodata.json): done\n",
      "Solving environment: failed with initial frozen solve. Retrying with flexible solve.\n",
      "\n",
      "PackagesNotFoundError: The following packages are not available from current channels:\n",
      "\n",
      "  - subprocess\n",
      "\n",
      "Current channels:\n",
      "\n",
      "  - https://repo.anaconda.com/pkgs/main/linux-64\n",
      "  - https://repo.anaconda.com/pkgs/main/noarch\n",
      "  - https://repo.anaconda.com/pkgs/r/linux-64\n",
      "  - https://repo.anaconda.com/pkgs/r/noarch\n",
      "\n",
      "To search for alternate channels that may provide the conda package you're\n",
      "looking for, navigate to\n",
      "\n",
      "    https://anaconda.org\n",
      "\n",
      "and use the search bar at the top of the page.\n",
      "\n",
      "\n",
      "\n",
      "Note: you may need to restart the kernel to use updated packages.\n"
     ]
    }
   ],
   "source": [
    "%conda install subprocess"
   ]
  },
  {
   "cell_type": "markdown",
   "id": "4d58a0bb-e2f3-4b7d-a2bd-44f8bff8bb7f",
   "metadata": {},
   "source": [
    "# 2. Amazon Polly"
   ]
  },
  {
   "cell_type": "code",
   "execution_count": 10,
   "id": "af0bbf48-276b-4b3a-b2f9-7ed0d1203b14",
   "metadata": {
    "tags": []
   },
   "outputs": [
    {
     "name": "stdout",
     "output_type": "stream",
     "text": [
      "Written to /tmp/speech.mp3\n",
      "Written to /tmp/speech.mp3\n"
     ]
    }
   ],
   "source": [
    "import boto3\n",
    "\n",
    "from botocore.exceptions import BotoCoreError, ClientError\n",
    "from contextlib import closing\n",
    "import os\n",
    "import sys\n",
    "import subprocess\n",
    "from tempfile import gettempdir\n",
    "\n",
    "bucket_name = 'aigc-bj-team1'\n",
    "    \n",
    "def en_text_to_speech(input_text, polly_client, s3_client):\n",
    "    try:\n",
    "        # Request speech synthesis\n",
    "        response = polly_client.synthesize_speech(Text=input_text, OutputFormat=\"mp3\",\n",
    "                                            VoiceId=\"Joanna\")\n",
    "    except (BotoCoreError, ClientError) as error:\n",
    "        # The service returned an error, exit gracefully\n",
    "        print(error)\n",
    "        sys.exit(-1)\n",
    "    \n",
    "    # Access the audio stream from the response\n",
    "    if \"AudioStream\" in response:\n",
    "        # Note: Closing the stream is important because the service throttles on the\n",
    "        # number of parallel connections. Here we are using contextlib.closing to\n",
    "        # ensure the close method of the stream object will be called automatically\n",
    "        # at the end of the with statement's scope.\n",
    "        with closing(response[\"AudioStream\"]) as stream:\n",
    "            output = os.path.join(gettempdir(), \"speech.mp3\")\n",
    "\n",
    "            try:\n",
    "                # Open a file for writing the output as a binary stream\n",
    "                with open(output, \"wb\") as file:\n",
    "                    file.write(stream.read())\n",
    "                    print(\"Written to %s\" % output)\n",
    "                    s3_client.upload_file(output, bucket_name, \"speech-en.mp3\")\n",
    "            except IOError as error:\n",
    "                # Could not write to file, exit gracefully\n",
    "                print(error)\n",
    "                sys.exit(-1)\n",
    "    else:\n",
    "        # The response didn't contain audio data, exit gracefully\n",
    "        print(\"Could not stream audio\")\n",
    "        sys.exit(-1)\n",
    "\n",
    "def cn_text_to_speech(input_text, polly_client, s3_client):\n",
    "    try:\n",
    "        # Request speech synthesis\n",
    "        response = polly_client.synthesize_speech(Text=input_text, OutputFormat=\"mp3\",\n",
    "                                            VoiceId=\"Zhiyu\")\n",
    "    except (BotoCoreError, ClientError) as error:\n",
    "        # The service returned an error, exit gracefully\n",
    "        print(error)\n",
    "        sys.exit(-1)\n",
    "    \n",
    "    # Access the audio stream from the response\n",
    "    if \"AudioStream\" in response:\n",
    "        # Note: Closing the stream is important because the service throttles on the\n",
    "        # number of parallel connections. Here we are using contextlib.closing to\n",
    "        # ensure the close method of the stream object will be called automatically\n",
    "        # at the end of the with statement's scope.\n",
    "        with closing(response[\"AudioStream\"]) as stream:\n",
    "            output = os.path.join(gettempdir(), \"speech.mp3\")\n",
    "\n",
    "            try:\n",
    "                # Open a file for writing the output as a binary stream\n",
    "                with open(output, \"wb\") as file:\n",
    "                    file.write(stream.read())\n",
    "                    print(\"Written to %s\" % output)\n",
    "                    s3_client.upload_file(output, bucket_name, \"speech-cn.mp3\")\n",
    "            except IOError as error:\n",
    "                # Could not write to file, exit gracefully\n",
    "                print(error)\n",
    "                sys.exit(-1)\n",
    "    else:\n",
    "        # The response didn't contain audio data, exit gracefully\n",
    "        print(\"Could not stream audio\")\n",
    "        sys.exit(-1)\n",
    "        \n",
    "def main():\n",
    "    polly_client = boto3.client('polly')\n",
    "    s3_client = boto3.client(\"s3\")\n",
    "    en_input_text  = 'Hello world!'\n",
    "    en_text_to_speech(en_input_text, polly_client, s3_client)\n",
    "    cn_input_text = '你好'\n",
    "    cn_text_to_speech(cn_input_text, polly_client, s3_client)\n",
    "\n",
    "if __name__ == '__main__':\n",
    "    main()"
   ]
  },
  {
   "cell_type": "code",
   "execution_count": 11,
   "id": "083b3fdf-c353-4057-84db-5946f7dd7caa",
   "metadata": {},
   "outputs": [
    {
     "name": "stdout",
     "output_type": "stream",
     "text": [
      "download: s3://aigc-bj-team1/speech-en.mp3 to ./speech-en.mp3  \n",
      "download: s3://aigc-bj-team1/speech-cn.mp3 to ./speech-cn.mp3  \n"
     ]
    }
   ],
   "source": [
    "# Copy to local\n",
    "!aws s3 cp s3://aigc-bj-team1/speech-en.mp3 ./speech-en.mp3\n",
    "!aws s3 cp s3://aigc-bj-team1/speech-cn.mp3 ./speech-cn.mp3"
   ]
  },
  {
   "cell_type": "code",
   "execution_count": 12,
   "id": "0c946992-8240-4499-8b12-d5b9bb17840b",
   "metadata": {},
   "outputs": [
    {
     "data": {
      "text/html": [
       "\n",
       "                <audio  controls=\"controls\" >\n",
       "                    <source src=\"data:audio/mpeg;base64,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\" type=\"audio/mpeg\" />\n",
       "                    Your browser does not support the audio element.\n",
       "                </audio>\n",
       "              "
      ],
      "text/plain": [
       "<IPython.lib.display.Audio object>"
      ]
     },
     "execution_count": 12,
     "metadata": {},
     "output_type": "execute_result"
    }
   ],
   "source": [
    "from IPython.display import Audio\n",
    "\n",
    "# Replace 'path_to_your_mp3.mp3' with the path to your mp3 file\n",
    "audio_file = 'speech-en.mp3'\n",
    "\n",
    "Audio(audio_file)"
   ]
  },
  {
   "cell_type": "code",
   "execution_count": 12,
   "id": "01ebde65-8b45-4536-b803-6adf4d47a8c8",
   "metadata": {},
   "outputs": [
    {
     "data": {
      "text/html": [
       "\n",
       "                <audio  controls=\"controls\" >\n",
       "                    <source src=\"data:audio/mpeg;base64,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\" type=\"audio/mpeg\" />\n",
       "                    Your browser does not support the audio element.\n",
       "                </audio>\n",
       "              "
      ],
      "text/plain": [
       "<IPython.lib.display.Audio object>"
      ]
     },
     "execution_count": 12,
     "metadata": {},
     "output_type": "execute_result"
    }
   ],
   "source": [
    "from IPython.display import Audio\n",
    "\n",
    "# Replace 'path_to_your_mp3.mp3' with the path to your mp3 file\n",
    "audio_file = 'speech-cn.mp3'\n",
    "\n",
    "Audio(audio_file)"
   ]
  },
  {
   "cell_type": "code",
   "execution_count": null,
   "id": "b363a97f-d205-4894-83f2-af611103b2b7",
   "metadata": {},
   "outputs": [],
   "source": []
  }
 ],
 "metadata": {
  "availableInstances": [
   {
    "_defaultOrder": 0,
    "_isFastLaunch": true,
    "category": "General purpose",
    "gpuNum": 0,
    "hideHardwareSpecs": false,
    "memoryGiB": 4,
    "name": "ml.t3.medium",
    "vcpuNum": 2
   },
   {
    "_defaultOrder": 1,
    "_isFastLaunch": false,
    "category": "General purpose",
    "gpuNum": 0,
    "hideHardwareSpecs": false,
    "memoryGiB": 8,
    "name": "ml.t3.large",
    "vcpuNum": 2
   },
   {
    "_defaultOrder": 2,
    "_isFastLaunch": false,
    "category": "General purpose",
    "gpuNum": 0,
    "hideHardwareSpecs": false,
    "memoryGiB": 16,
    "name": "ml.t3.xlarge",
    "vcpuNum": 4
   },
   {
    "_defaultOrder": 3,
    "_isFastLaunch": false,
    "category": "General purpose",
    "gpuNum": 0,
    "hideHardwareSpecs": false,
    "memoryGiB": 32,
    "name": "ml.t3.2xlarge",
    "vcpuNum": 8
   },
   {
    "_defaultOrder": 4,
    "_isFastLaunch": true,
    "category": "General purpose",
    "gpuNum": 0,
    "hideHardwareSpecs": false,
    "memoryGiB": 8,
    "name": "ml.m5.large",
    "vcpuNum": 2
   },
   {
    "_defaultOrder": 5,
    "_isFastLaunch": false,
    "category": "General purpose",
    "gpuNum": 0,
    "hideHardwareSpecs": false,
    "memoryGiB": 16,
    "name": "ml.m5.xlarge",
    "vcpuNum": 4
   },
   {
    "_defaultOrder": 6,
    "_isFastLaunch": false,
    "category": "General purpose",
    "gpuNum": 0,
    "hideHardwareSpecs": false,
    "memoryGiB": 32,
    "name": "ml.m5.2xlarge",
    "vcpuNum": 8
   },
   {
    "_defaultOrder": 7,
    "_isFastLaunch": false,
    "category": "General purpose",
    "gpuNum": 0,
    "hideHardwareSpecs": false,
    "memoryGiB": 64,
    "name": "ml.m5.4xlarge",
    "vcpuNum": 16
   },
   {
    "_defaultOrder": 8,
    "_isFastLaunch": false,
    "category": "General purpose",
    "gpuNum": 0,
    "hideHardwareSpecs": false,
    "memoryGiB": 128,
    "name": "ml.m5.8xlarge",
    "vcpuNum": 32
   },
   {
    "_defaultOrder": 9,
    "_isFastLaunch": false,
    "category": "General purpose",
    "gpuNum": 0,
    "hideHardwareSpecs": false,
    "memoryGiB": 192,
    "name": "ml.m5.12xlarge",
    "vcpuNum": 48
   },
   {
    "_defaultOrder": 10,
    "_isFastLaunch": false,
    "category": "General purpose",
    "gpuNum": 0,
    "hideHardwareSpecs": false,
    "memoryGiB": 256,
    "name": "ml.m5.16xlarge",
    "vcpuNum": 64
   },
   {
    "_defaultOrder": 11,
    "_isFastLaunch": false,
    "category": "General purpose",
    "gpuNum": 0,
    "hideHardwareSpecs": false,
    "memoryGiB": 384,
    "name": "ml.m5.24xlarge",
    "vcpuNum": 96
   },
   {
    "_defaultOrder": 12,
    "_isFastLaunch": false,
    "category": "General purpose",
    "gpuNum": 0,
    "hideHardwareSpecs": false,
    "memoryGiB": 8,
    "name": "ml.m5d.large",
    "vcpuNum": 2
   },
   {
    "_defaultOrder": 13,
    "_isFastLaunch": false,
    "category": "General purpose",
    "gpuNum": 0,
    "hideHardwareSpecs": false,
    "memoryGiB": 16,
    "name": "ml.m5d.xlarge",
    "vcpuNum": 4
   },
   {
    "_defaultOrder": 14,
    "_isFastLaunch": false,
    "category": "General purpose",
    "gpuNum": 0,
    "hideHardwareSpecs": false,
    "memoryGiB": 32,
    "name": "ml.m5d.2xlarge",
    "vcpuNum": 8
   },
   {
    "_defaultOrder": 15,
    "_isFastLaunch": false,
    "category": "General purpose",
    "gpuNum": 0,
    "hideHardwareSpecs": false,
    "memoryGiB": 64,
    "name": "ml.m5d.4xlarge",
    "vcpuNum": 16
   },
   {
    "_defaultOrder": 16,
    "_isFastLaunch": false,
    "category": "General purpose",
    "gpuNum": 0,
    "hideHardwareSpecs": false,
    "memoryGiB": 128,
    "name": "ml.m5d.8xlarge",
    "vcpuNum": 32
   },
   {
    "_defaultOrder": 17,
    "_isFastLaunch": false,
    "category": "General purpose",
    "gpuNum": 0,
    "hideHardwareSpecs": false,
    "memoryGiB": 192,
    "name": "ml.m5d.12xlarge",
    "vcpuNum": 48
   },
   {
    "_defaultOrder": 18,
    "_isFastLaunch": false,
    "category": "General purpose",
    "gpuNum": 0,
    "hideHardwareSpecs": false,
    "memoryGiB": 256,
    "name": "ml.m5d.16xlarge",
    "vcpuNum": 64
   },
   {
    "_defaultOrder": 19,
    "_isFastLaunch": false,
    "category": "General purpose",
    "gpuNum": 0,
    "hideHardwareSpecs": false,
    "memoryGiB": 384,
    "name": "ml.m5d.24xlarge",
    "vcpuNum": 96
   },
   {
    "_defaultOrder": 20,
    "_isFastLaunch": false,
    "category": "General purpose",
    "gpuNum": 0,
    "hideHardwareSpecs": true,
    "memoryGiB": 0,
    "name": "ml.geospatial.interactive",
    "supportedImageNames": [
     "sagemaker-geospatial-v1-0"
    ],
    "vcpuNum": 0
   },
   {
    "_defaultOrder": 21,
    "_isFastLaunch": true,
    "category": "Compute optimized",
    "gpuNum": 0,
    "hideHardwareSpecs": false,
    "memoryGiB": 4,
    "name": "ml.c5.large",
    "vcpuNum": 2
   },
   {
    "_defaultOrder": 22,
    "_isFastLaunch": false,
    "category": "Compute optimized",
    "gpuNum": 0,
    "hideHardwareSpecs": false,
    "memoryGiB": 8,
    "name": "ml.c5.xlarge",
    "vcpuNum": 4
   },
   {
    "_defaultOrder": 23,
    "_isFastLaunch": false,
    "category": "Compute optimized",
    "gpuNum": 0,
    "hideHardwareSpecs": false,
    "memoryGiB": 16,
    "name": "ml.c5.2xlarge",
    "vcpuNum": 8
   },
   {
    "_defaultOrder": 24,
    "_isFastLaunch": false,
    "category": "Compute optimized",
    "gpuNum": 0,
    "hideHardwareSpecs": false,
    "memoryGiB": 32,
    "name": "ml.c5.4xlarge",
    "vcpuNum": 16
   },
   {
    "_defaultOrder": 25,
    "_isFastLaunch": false,
    "category": "Compute optimized",
    "gpuNum": 0,
    "hideHardwareSpecs": false,
    "memoryGiB": 72,
    "name": "ml.c5.9xlarge",
    "vcpuNum": 36
   },
   {
    "_defaultOrder": 26,
    "_isFastLaunch": false,
    "category": "Compute optimized",
    "gpuNum": 0,
    "hideHardwareSpecs": false,
    "memoryGiB": 96,
    "name": "ml.c5.12xlarge",
    "vcpuNum": 48
   },
   {
    "_defaultOrder": 27,
    "_isFastLaunch": false,
    "category": "Compute optimized",
    "gpuNum": 0,
    "hideHardwareSpecs": false,
    "memoryGiB": 144,
    "name": "ml.c5.18xlarge",
    "vcpuNum": 72
   },
   {
    "_defaultOrder": 28,
    "_isFastLaunch": false,
    "category": "Compute optimized",
    "gpuNum": 0,
    "hideHardwareSpecs": false,
    "memoryGiB": 192,
    "name": "ml.c5.24xlarge",
    "vcpuNum": 96
   },
   {
    "_defaultOrder": 29,
    "_isFastLaunch": true,
    "category": "Accelerated computing",
    "gpuNum": 1,
    "hideHardwareSpecs": false,
    "memoryGiB": 16,
    "name": "ml.g4dn.xlarge",
    "vcpuNum": 4
   },
   {
    "_defaultOrder": 30,
    "_isFastLaunch": false,
    "category": "Accelerated computing",
    "gpuNum": 1,
    "hideHardwareSpecs": false,
    "memoryGiB": 32,
    "name": "ml.g4dn.2xlarge",
    "vcpuNum": 8
   },
   {
    "_defaultOrder": 31,
    "_isFastLaunch": false,
    "category": "Accelerated computing",
    "gpuNum": 1,
    "hideHardwareSpecs": false,
    "memoryGiB": 64,
    "name": "ml.g4dn.4xlarge",
    "vcpuNum": 16
   },
   {
    "_defaultOrder": 32,
    "_isFastLaunch": false,
    "category": "Accelerated computing",
    "gpuNum": 1,
    "hideHardwareSpecs": false,
    "memoryGiB": 128,
    "name": "ml.g4dn.8xlarge",
    "vcpuNum": 32
   },
   {
    "_defaultOrder": 33,
    "_isFastLaunch": false,
    "category": "Accelerated computing",
    "gpuNum": 4,
    "hideHardwareSpecs": false,
    "memoryGiB": 192,
    "name": "ml.g4dn.12xlarge",
    "vcpuNum": 48
   },
   {
    "_defaultOrder": 34,
    "_isFastLaunch": false,
    "category": "Accelerated computing",
    "gpuNum": 1,
    "hideHardwareSpecs": false,
    "memoryGiB": 256,
    "name": "ml.g4dn.16xlarge",
    "vcpuNum": 64
   },
   {
    "_defaultOrder": 35,
    "_isFastLaunch": false,
    "category": "Accelerated computing",
    "gpuNum": 1,
    "hideHardwareSpecs": false,
    "memoryGiB": 61,
    "name": "ml.p3.2xlarge",
    "vcpuNum": 8
   },
   {
    "_defaultOrder": 36,
    "_isFastLaunch": false,
    "category": "Accelerated computing",
    "gpuNum": 4,
    "hideHardwareSpecs": false,
    "memoryGiB": 244,
    "name": "ml.p3.8xlarge",
    "vcpuNum": 32
   },
   {
    "_defaultOrder": 37,
    "_isFastLaunch": false,
    "category": "Accelerated computing",
    "gpuNum": 8,
    "hideHardwareSpecs": false,
    "memoryGiB": 488,
    "name": "ml.p3.16xlarge",
    "vcpuNum": 64
   },
   {
    "_defaultOrder": 38,
    "_isFastLaunch": false,
    "category": "Accelerated computing",
    "gpuNum": 8,
    "hideHardwareSpecs": false,
    "memoryGiB": 768,
    "name": "ml.p3dn.24xlarge",
    "vcpuNum": 96
   },
   {
    "_defaultOrder": 39,
    "_isFastLaunch": false,
    "category": "Memory Optimized",
    "gpuNum": 0,
    "hideHardwareSpecs": false,
    "memoryGiB": 16,
    "name": "ml.r5.large",
    "vcpuNum": 2
   },
   {
    "_defaultOrder": 40,
    "_isFastLaunch": false,
    "category": "Memory Optimized",
    "gpuNum": 0,
    "hideHardwareSpecs": false,
    "memoryGiB": 32,
    "name": "ml.r5.xlarge",
    "vcpuNum": 4
   },
   {
    "_defaultOrder": 41,
    "_isFastLaunch": false,
    "category": "Memory Optimized",
    "gpuNum": 0,
    "hideHardwareSpecs": false,
    "memoryGiB": 64,
    "name": "ml.r5.2xlarge",
    "vcpuNum": 8
   },
   {
    "_defaultOrder": 42,
    "_isFastLaunch": false,
    "category": "Memory Optimized",
    "gpuNum": 0,
    "hideHardwareSpecs": false,
    "memoryGiB": 128,
    "name": "ml.r5.4xlarge",
    "vcpuNum": 16
   },
   {
    "_defaultOrder": 43,
    "_isFastLaunch": false,
    "category": "Memory Optimized",
    "gpuNum": 0,
    "hideHardwareSpecs": false,
    "memoryGiB": 256,
    "name": "ml.r5.8xlarge",
    "vcpuNum": 32
   },
   {
    "_defaultOrder": 44,
    "_isFastLaunch": false,
    "category": "Memory Optimized",
    "gpuNum": 0,
    "hideHardwareSpecs": false,
    "memoryGiB": 384,
    "name": "ml.r5.12xlarge",
    "vcpuNum": 48
   },
   {
    "_defaultOrder": 45,
    "_isFastLaunch": false,
    "category": "Memory Optimized",
    "gpuNum": 0,
    "hideHardwareSpecs": false,
    "memoryGiB": 512,
    "name": "ml.r5.16xlarge",
    "vcpuNum": 64
   },
   {
    "_defaultOrder": 46,
    "_isFastLaunch": false,
    "category": "Memory Optimized",
    "gpuNum": 0,
    "hideHardwareSpecs": false,
    "memoryGiB": 768,
    "name": "ml.r5.24xlarge",
    "vcpuNum": 96
   },
   {
    "_defaultOrder": 47,
    "_isFastLaunch": false,
    "category": "Accelerated computing",
    "gpuNum": 1,
    "hideHardwareSpecs": false,
    "memoryGiB": 16,
    "name": "ml.g5.xlarge",
    "vcpuNum": 4
   },
   {
    "_defaultOrder": 48,
    "_isFastLaunch": false,
    "category": "Accelerated computing",
    "gpuNum": 1,
    "hideHardwareSpecs": false,
    "memoryGiB": 32,
    "name": "ml.g5.2xlarge",
    "vcpuNum": 8
   },
   {
    "_defaultOrder": 49,
    "_isFastLaunch": false,
    "category": "Accelerated computing",
    "gpuNum": 1,
    "hideHardwareSpecs": false,
    "memoryGiB": 64,
    "name": "ml.g5.4xlarge",
    "vcpuNum": 16
   },
   {
    "_defaultOrder": 50,
    "_isFastLaunch": false,
    "category": "Accelerated computing",
    "gpuNum": 1,
    "hideHardwareSpecs": false,
    "memoryGiB": 128,
    "name": "ml.g5.8xlarge",
    "vcpuNum": 32
   },
   {
    "_defaultOrder": 51,
    "_isFastLaunch": false,
    "category": "Accelerated computing",
    "gpuNum": 1,
    "hideHardwareSpecs": false,
    "memoryGiB": 256,
    "name": "ml.g5.16xlarge",
    "vcpuNum": 64
   },
   {
    "_defaultOrder": 52,
    "_isFastLaunch": false,
    "category": "Accelerated computing",
    "gpuNum": 4,
    "hideHardwareSpecs": false,
    "memoryGiB": 192,
    "name": "ml.g5.12xlarge",
    "vcpuNum": 48
   },
   {
    "_defaultOrder": 53,
    "_isFastLaunch": false,
    "category": "Accelerated computing",
    "gpuNum": 4,
    "hideHardwareSpecs": false,
    "memoryGiB": 384,
    "name": "ml.g5.24xlarge",
    "vcpuNum": 96
   },
   {
    "_defaultOrder": 54,
    "_isFastLaunch": false,
    "category": "Accelerated computing",
    "gpuNum": 8,
    "hideHardwareSpecs": false,
    "memoryGiB": 768,
    "name": "ml.g5.48xlarge",
    "vcpuNum": 192
   },
   {
    "_defaultOrder": 55,
    "_isFastLaunch": false,
    "category": "Accelerated computing",
    "gpuNum": 8,
    "hideHardwareSpecs": false,
    "memoryGiB": 1152,
    "name": "ml.p4d.24xlarge",
    "vcpuNum": 96
   },
   {
    "_defaultOrder": 56,
    "_isFastLaunch": false,
    "category": "Accelerated computing",
    "gpuNum": 8,
    "hideHardwareSpecs": false,
    "memoryGiB": 1152,
    "name": "ml.p4de.24xlarge",
    "vcpuNum": 96
   }
  ],
  "instance_type": "ml.g4dn.xlarge",
  "kernelspec": {
   "display_name": "Python 3 (Data Science 3.0)",
   "language": "python",
   "name": "python3__SAGEMAKER_INTERNAL__arn:aws:sagemaker:us-east-1:081325390199:image/sagemaker-data-science-310-v1"
  },
  "language_info": {
   "codemirror_mode": {
    "name": "ipython",
    "version": 3
   },
   "file_extension": ".py",
   "mimetype": "text/x-python",
   "name": "python",
   "nbconvert_exporter": "python",
   "pygments_lexer": "ipython3",
   "version": "3.10.6"
  }
 },
 "nbformat": 4,
 "nbformat_minor": 5
}
